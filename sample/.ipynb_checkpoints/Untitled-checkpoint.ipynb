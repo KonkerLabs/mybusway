{
 "cells": [
  {
   "cell_type": "code",
   "execution_count": 1,
   "metadata": {},
   "outputs": [],
   "source": [
    "from pykonker.main.api import Client"
   ]
  },
  {
   "cell_type": "code",
   "execution_count": 2,
   "metadata": {},
   "outputs": [],
   "source": [
    "import pandas as pd\n",
    "import geopandas as gpd"
   ]
  },
  {
   "cell_type": "code",
   "execution_count": 3,
   "metadata": {},
   "outputs": [],
   "source": [
    "konker = Client()"
   ]
  },
  {
   "cell_type": "code",
   "execution_count": 4,
   "metadata": {},
   "outputs": [
    {
     "data": {
      "text/plain": [
       "(<requests_oauthlib.oauth2_session.OAuth2Session at 0x116556a58>,\n",
       " {'access_token': 'eyJhbGciOiJIUzI1NiIsInR5cCI6IkpXVCJ9.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.JHIJ2V6sHtCCdVy7xvUcbs8g28fPUk61lGU2Bal5p3k',\n",
       "  'token_type': 'bearer',\n",
       "  'expires_in': 311551593,\n",
       "  'scope': ['trust', 'read', 'write'],\n",
       "  'jti': 'f808b68c03624b1191ff72bd8a9ce90f107a0dc8251b4533ac8556ea3118b1949faa17f4d2b9414f918779677c408b4e',\n",
       "  'expires_at': 1911661724.1848252})"
      ]
     },
     "execution_count": 4,
     "metadata": {},
     "output_type": "execute_result"
    }
   ],
   "source": [
    "username = 'radix@konkerlabs.com'\n",
    "pwd = '2ZLbCU4DmzxvMYud'\n",
    "konker.login(username=username, password=pwd)"
   ]
  },
  {
   "cell_type": "code",
   "execution_count": 5,
   "metadata": {},
   "outputs": [
    {
     "name": "stdout",
     "output_type": "stream",
     "text": [
      "{'timestamp': 1600110147, 'code': 200, 'status': 'success', 'result': [{'friendlyName': 'uhhn53st', 'description': None, 'name': 'uhhn53st'}, {'friendlyName': 'globo', 'description': 'devices do projeto da globo de tracking de veiculos eletricos', 'name': 'globo'}]}\n"
     ]
    }
   ],
   "source": [
    "apps = pd.json_normalize(konker.get_applications())"
   ]
  },
  {
   "cell_type": "code",
   "execution_count": 6,
   "metadata": {},
   "outputs": [
    {
     "data": {
      "text/html": [
       "<div>\n",
       "<style scoped>\n",
       "    .dataframe tbody tr th:only-of-type {\n",
       "        vertical-align: middle;\n",
       "    }\n",
       "\n",
       "    .dataframe tbody tr th {\n",
       "        vertical-align: top;\n",
       "    }\n",
       "\n",
       "    .dataframe thead th {\n",
       "        text-align: right;\n",
       "    }\n",
       "</style>\n",
       "<table border=\"1\" class=\"dataframe\">\n",
       "  <thead>\n",
       "    <tr style=\"text-align: right;\">\n",
       "      <th></th>\n",
       "      <th>friendlyName</th>\n",
       "      <th>description</th>\n",
       "      <th>name</th>\n",
       "    </tr>\n",
       "  </thead>\n",
       "  <tbody>\n",
       "    <tr>\n",
       "      <th>0</th>\n",
       "      <td>uhhn53st</td>\n",
       "      <td>None</td>\n",
       "      <td>uhhn53st</td>\n",
       "    </tr>\n",
       "    <tr>\n",
       "      <th>1</th>\n",
       "      <td>globo</td>\n",
       "      <td>devices do projeto da globo de tracking de vei...</td>\n",
       "      <td>globo</td>\n",
       "    </tr>\n",
       "  </tbody>\n",
       "</table>\n",
       "</div>"
      ],
      "text/plain": [
       "  friendlyName                                        description      name\n",
       "0     uhhn53st                                               None  uhhn53st\n",
       "1        globo  devices do projeto da globo de tracking de vei...     globo"
      ]
     },
     "execution_count": 6,
     "metadata": {},
     "output_type": "execute_result"
    }
   ],
   "source": [
    "apps"
   ]
  },
  {
   "cell_type": "code",
   "execution_count": 9,
   "metadata": {},
   "outputs": [],
   "source": [
    "konker.set_application('globo')\n",
    "devices = pd.json_normalize(konker.get_all_devices())"
   ]
  },
  {
   "cell_type": "code",
   "execution_count": 10,
   "metadata": {},
   "outputs": [
    {
     "data": {
      "text/html": [
       "<div>\n",
       "<style scoped>\n",
       "    .dataframe tbody tr th:only-of-type {\n",
       "        vertical-align: middle;\n",
       "    }\n",
       "\n",
       "    .dataframe tbody tr th {\n",
       "        vertical-align: top;\n",
       "    }\n",
       "\n",
       "    .dataframe thead th {\n",
       "        text-align: right;\n",
       "    }\n",
       "</style>\n",
       "<table border=\"1\" class=\"dataframe\">\n",
       "  <thead>\n",
       "    <tr style=\"text-align: right;\">\n",
       "      <th></th>\n",
       "      <th>id</th>\n",
       "      <th>name</th>\n",
       "      <th>description</th>\n",
       "      <th>locationName</th>\n",
       "      <th>deviceModelName</th>\n",
       "      <th>active</th>\n",
       "      <th>debug</th>\n",
       "      <th>tags</th>\n",
       "      <th>guid</th>\n",
       "    </tr>\n",
       "  </thead>\n",
       "  <tbody>\n",
       "    <tr>\n",
       "      <th>0</th>\n",
       "      <td>865083031014764</td>\n",
       "      <td>865083031014764</td>\n",
       "      <td>None</td>\n",
       "      <td>default</td>\n",
       "      <td>default</td>\n",
       "      <td>True</td>\n",
       "      <td>False</td>\n",
       "      <td>[]</td>\n",
       "      <td>f6bef9f0-9cca-4cdd-9447-ce226ee90842</td>\n",
       "    </tr>\n",
       "    <tr>\n",
       "      <th>1</th>\n",
       "      <td>865083031013154</td>\n",
       "      <td>865083031013154</td>\n",
       "      <td>None</td>\n",
       "      <td>default</td>\n",
       "      <td>default</td>\n",
       "      <td>True</td>\n",
       "      <td>False</td>\n",
       "      <td>[]</td>\n",
       "      <td>90a20c97-7572-48ee-a2fb-ca65298eff77</td>\n",
       "    </tr>\n",
       "    <tr>\n",
       "      <th>2</th>\n",
       "      <td>865083031015928</td>\n",
       "      <td>865083031015928</td>\n",
       "      <td>None</td>\n",
       "      <td>default</td>\n",
       "      <td>default</td>\n",
       "      <td>True</td>\n",
       "      <td>False</td>\n",
       "      <td>[]</td>\n",
       "      <td>f34919f4-1462-4cdf-8fce-6a0db6caaecd</td>\n",
       "    </tr>\n",
       "    <tr>\n",
       "      <th>3</th>\n",
       "      <td>865083031016884</td>\n",
       "      <td>865083031016884</td>\n",
       "      <td>None</td>\n",
       "      <td>default</td>\n",
       "      <td>default</td>\n",
       "      <td>True</td>\n",
       "      <td>False</td>\n",
       "      <td>[]</td>\n",
       "      <td>bcb806e4-3ac6-45cf-99d7-c3b0a79da3a4</td>\n",
       "    </tr>\n",
       "    <tr>\n",
       "      <th>4</th>\n",
       "      <td>865083031015688</td>\n",
       "      <td>865083031015688</td>\n",
       "      <td>None</td>\n",
       "      <td>default</td>\n",
       "      <td>default</td>\n",
       "      <td>True</td>\n",
       "      <td>False</td>\n",
       "      <td>[]</td>\n",
       "      <td>861ed2ef-9d61-435a-b09c-23ef8ee9a19b</td>\n",
       "    </tr>\n",
       "    <tr>\n",
       "      <th>5</th>\n",
       "      <td>865083031018088</td>\n",
       "      <td>865083031018088</td>\n",
       "      <td>None</td>\n",
       "      <td>default</td>\n",
       "      <td>default</td>\n",
       "      <td>True</td>\n",
       "      <td>False</td>\n",
       "      <td>[]</td>\n",
       "      <td>d06066ed-2718-48b8-962b-c79a418b8b00</td>\n",
       "    </tr>\n",
       "    <tr>\n",
       "      <th>6</th>\n",
       "      <td>865083031027774</td>\n",
       "      <td>865083031027774</td>\n",
       "      <td>None</td>\n",
       "      <td>default</td>\n",
       "      <td>default</td>\n",
       "      <td>True</td>\n",
       "      <td>False</td>\n",
       "      <td>[]</td>\n",
       "      <td>cd4a9505-dbd6-4227-a8b4-34e5cd8390e4</td>\n",
       "    </tr>\n",
       "    <tr>\n",
       "      <th>7</th>\n",
       "      <td>865083031017973</td>\n",
       "      <td>865083031017973</td>\n",
       "      <td>None</td>\n",
       "      <td>default</td>\n",
       "      <td>default</td>\n",
       "      <td>True</td>\n",
       "      <td>False</td>\n",
       "      <td>[]</td>\n",
       "      <td>874b344e-123f-4c15-afb4-8a610aa2a06e</td>\n",
       "    </tr>\n",
       "    <tr>\n",
       "      <th>8</th>\n",
       "      <td>865083031014699</td>\n",
       "      <td>865083031014699</td>\n",
       "      <td>None</td>\n",
       "      <td>default</td>\n",
       "      <td>default</td>\n",
       "      <td>True</td>\n",
       "      <td>False</td>\n",
       "      <td>[]</td>\n",
       "      <td>7f625eee-56f5-45f4-ac52-84155e2ec6a4</td>\n",
       "    </tr>\n",
       "    <tr>\n",
       "      <th>9</th>\n",
       "      <td>865083031017205</td>\n",
       "      <td>865083031017205</td>\n",
       "      <td>None</td>\n",
       "      <td>default</td>\n",
       "      <td>default</td>\n",
       "      <td>True</td>\n",
       "      <td>False</td>\n",
       "      <td>[]</td>\n",
       "      <td>7609ce01-6b79-41dc-816a-35e51673ffa0</td>\n",
       "    </tr>\n",
       "  </tbody>\n",
       "</table>\n",
       "</div>"
      ],
      "text/plain": [
       "                id             name description locationName deviceModelName  \\\n",
       "0  865083031014764  865083031014764        None      default         default   \n",
       "1  865083031013154  865083031013154        None      default         default   \n",
       "2  865083031015928  865083031015928        None      default         default   \n",
       "3  865083031016884  865083031016884        None      default         default   \n",
       "4  865083031015688  865083031015688        None      default         default   \n",
       "5  865083031018088  865083031018088        None      default         default   \n",
       "6  865083031027774  865083031027774        None      default         default   \n",
       "7  865083031017973  865083031017973        None      default         default   \n",
       "8  865083031014699  865083031014699        None      default         default   \n",
       "9  865083031017205  865083031017205        None      default         default   \n",
       "\n",
       "   active  debug tags                                  guid  \n",
       "0    True  False   []  f6bef9f0-9cca-4cdd-9447-ce226ee90842  \n",
       "1    True  False   []  90a20c97-7572-48ee-a2fb-ca65298eff77  \n",
       "2    True  False   []  f34919f4-1462-4cdf-8fce-6a0db6caaecd  \n",
       "3    True  False   []  bcb806e4-3ac6-45cf-99d7-c3b0a79da3a4  \n",
       "4    True  False   []  861ed2ef-9d61-435a-b09c-23ef8ee9a19b  \n",
       "5    True  False   []  d06066ed-2718-48b8-962b-c79a418b8b00  \n",
       "6    True  False   []  cd4a9505-dbd6-4227-a8b4-34e5cd8390e4  \n",
       "7    True  False   []  874b344e-123f-4c15-afb4-8a610aa2a06e  \n",
       "8    True  False   []  7f625eee-56f5-45f4-ac52-84155e2ec6a4  \n",
       "9    True  False   []  7609ce01-6b79-41dc-816a-35e51673ffa0  "
      ]
     },
     "execution_count": 10,
     "metadata": {},
     "output_type": "execute_result"
    }
   ],
   "source": [
    "devices"
   ]
  },
  {
   "cell_type": "code",
   "execution_count": null,
   "metadata": {},
   "outputs": [],
   "source": [
    "# help\n"
   ]
  }
 ],
 "metadata": {
  "kernelspec": {
   "display_name": "Python 3",
   "language": "python",
   "name": "python3"
  },
  "language_info": {
   "codemirror_mode": {
    "name": "ipython",
    "version": 3
   },
   "file_extension": ".py",
   "mimetype": "text/x-python",
   "name": "python",
   "nbconvert_exporter": "python",
   "pygments_lexer": "ipython3",
   "version": "3.7.3"
  }
 },
 "nbformat": 4,
 "nbformat_minor": 4
}
